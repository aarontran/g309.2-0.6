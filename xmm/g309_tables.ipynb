{
 "cells": [
  {
   "cell_type": "markdown",
   "metadata": {},
   "source": [
    "# G309 Spectrum Fit Tables & Figures (GSFTF)"
   ]
  },
  {
   "cell_type": "code",
   "execution_count": null,
   "metadata": {
    "collapsed": false
   },
   "outputs": [],
   "source": [
    "from __future__ import division\n",
    "\n",
    "import matplotlib.pyplot as plt\n",
    "import numpy as np\n",
    "%matplotlib inline\n",
    "\n",
    "import corner\n",
    "\n",
    "from ExtractedSpectrum import ExtractedSpectrum\n",
    "from nice_tables import LatexTable\n",
    "import xspec_utils as xs_utils\n",
    "\n",
    "import xspec as xs\n",
    "import g309_fits\n",
    "import g309_models\n",
    "\n",
    "%cd results_spec"
   ]
  },
  {
   "cell_type": "code",
   "execution_count": null,
   "metadata": {
    "collapsed": false,
    "scrolled": true
   },
   "outputs": [],
   "source": [
    "%ls *.json"
   ]
  },
  {
   "cell_type": "code",
   "execution_count": null,
   "metadata": {
    "collapsed": true
   },
   "outputs": [],
   "source": [
    "def val_pnerrs(model_dict, comp, par):\n",
    "    \"\"\"Convenience method to extract\n",
    "    value, +ve error, -ve error\n",
    "    from a model dict as returned by xspec_utils.model_dict.\n",
    "    Errors are signed (i.e., -ve error value is < 0)\n",
    "    \n",
    "    Arguments\n",
    "        model_dict: xspec_utils fit dict (i.e., JSON dict)\n",
    "        comp: component name (string)\n",
    "    Returns:\n",
    "        value, +ve error, -ve error three-tuple\n",
    "    \"\"\"\n",
    "    p = model_dict[comp][par]\n",
    "    val = p['value']\n",
    "    pos_err = p['error'][1] - p['value']\n",
    "    neg_err = p['error'][0] - p['value']\n",
    "    return val, pos_err, neg_err"
   ]
  },
  {
   "cell_type": "markdown",
   "metadata": {},
   "source": [
    "# 1. Compare parameters from variant-grouping, merging fits"
   ]
  },
  {
   "cell_type": "markdown",
   "metadata": {},
   "source": [
    "Compare: fits with/without bin grouping (using pgstat, chi-squared respectively), fits with and without MOS exposures merged.\n",
    "\n",
    "For MCMC expt, columns are (hack to force zero-based numbering):\n",
    "0. (0) xrb:2 kT keV\n",
    "\n",
    "...\n",
    "\n",
    "1. xrb:5 norm 0\n",
    "2. xrb:6 nH 10^22\n",
    "3. xrb:10 nH 10^22\n",
    "4. xrb:12 kT keV\n",
    "5. xrb:15 norm 0\n",
    "6. sp:2 PhoIndex 0\n",
    "7. sp:3 norm 0\n",
    "8. sp:5 PhoIndex 0\n",
    "9. sp:6 norm 0\n",
    "10. sp:8 PhoIndex 0\n",
    "11. sp:9 norm 0\n",
    "12. sp:11 PhoIndex 0\n",
    "13. sp:12 norm 0\n",
    "14. sp:14 PhoIndex 0\n",
    "15. sp:15 norm 0\n",
    "16. sp:17 PhoIndex 0\n",
    "17. sp:18 norm 0\n",
    "18. snr_src:2 nH 10^22\n",
    "19. snr_src:4 kT keV\n",
    "20. snr_src:11 Mg 0\n",
    "21. snr_src:12 Si 0\n",
    "22. snr_src:13 S 0\n",
    "23. snr_src:18 Tau s/cm^3\n",
    "24. snr_src:20 norm 0\n",
    "25. instr_1:1 factor 0\n",
    "26. instr_2:1 factor 0\n",
    "27. instr_3:1 factor 0\n",
    "28. instr_4:1 factor 0\n",
    "29. instr_5:1 factor 0\n",
    "30. instr_6:1 factor 0\n",
    "31. PG-Statistic"
   ]
  },
  {
   "cell_type": "code",
   "execution_count": null,
   "metadata": {
    "collapsed": false,
    "scrolled": true
   },
   "outputs": [],
   "source": [
    "def compare_par_errors(fd_fnames, fd_labels):\n",
    "\n",
    "    fig, axes = plt.subplots(nrows=5, ncols=3, sharex=True, squeeze=True, figsize=(10,12))\n",
    "\n",
    "    for ax, config in zip(axes.flatten(), par_configs):\n",
    "\n",
    "        src, cname, pname, label, label_units, chain_num = config\n",
    "\n",
    "        # Plot individual\n",
    "        for i, fd_fname in enumerate(fd_fnames):\n",
    "\n",
    "            fd = xs_utils.load_dict(fd_fname)\n",
    "\n",
    "            p = fd['1'][src][cname][pname]  # dict: parameter values, errors\n",
    "\n",
    "            if fd_fname == '20161019_src_bkg_mg_mcmc.json':\n",
    "                p['error'][0] = np.percentile(chain[burnin:, chain_num], [5])  # Set MCMC-derived errors\n",
    "                p['error'][1] = np.percentile(chain[burnin:, chain_num], [95])  # to get 90% regions\n",
    "\n",
    "            ax.errorbar([i], [p['value']],\n",
    "                        yerr=[[p['value'] - p['error'][0]],\n",
    "                              [p['error'][1] - p['value']]],\n",
    "                        xerr=0, fmt='o')\n",
    "        ax.set_xlim(-1, len(fd_fnames))\n",
    "        ax.set_xticks(range(len(fd_fnames)))\n",
    "        ax.set_xticklabels(fd_labels, rotation=50)\n",
    "        ax.set_ylabel(label + ' ' + label_units)\n",
    "\n",
    "        if pname == 'norm':\n",
    "            ax.set_yscale('log')\n",
    "\n",
    "    plt.tight_layout()\n",
    "    plt.show()"
   ]
  },
  {
   "cell_type": "code",
   "execution_count": null,
   "metadata": {
    "collapsed": true
   },
   "outputs": [],
   "source": [
    "chain = np.loadtxt(\"../20161019_src_bkg_mg_mcmc_walkers-250_run-50000.txt\", comments='!')\n",
    "burnin = 30000\n",
    "\n",
    "# Last number = column in chain file\n",
    "par_configs = [\n",
    "             ['snr_src', 'tbnew_gas', 'nH', r'$N_\\mathrm{H}$', r'($10^{22} \\;\\mathrm{cm^{-2}}$)', 18],\n",
    "             ['snr_src', 'vnei', 'kT', r'$kT$', '(keV)', 19],\n",
    "             ['snr_src', 'vnei', 'Tau', r'$\\tau$', r'($10^{10} \\;\\mathrm{s\\;cm^{-3}}$)', 23],\n",
    "             ['snr_src', 'vnei', 'Mg', 'Mg', '(-)', 20],\n",
    "             ['snr_src', 'vnei', 'Si', 'Si', '(-)', 21],\n",
    "             ['snr_src', 'vnei', 'S', 'S', '(-)', 22],\n",
    "             ['snr_src', 'vnei', 'norm', 'EM (scaled)', r'($10^{-14} \\;\\mathrm{cm^{-5}}$)', 24],\n",
    "             ['xrb', 'apec', 'kT', r'$k_B T_{\\mathrm{local}}$', '(keV)', 0],  # XRB parameters\n",
    "             ['xrb', 'apec', 'norm', 'EM (scaled)', r'($10^{-14} \\;\\mathrm{cm^{-5}}$)', 1],\n",
    "             ['xrb', 'tbnew_gas', 'nH', r'$N_\\mathrm{H,xgal}$', r'($10^{22} \\;\\mathrm{cm^{-2}}$)', 2],\n",
    "             ['xrb', 'tbnew_gas_5', 'nH', r'$N_\\mathrm{H,ridge}$', r'($10^{22} \\;\\mathrm{cm^{-2}}$)', 3],\n",
    "             ['xrb', 'apec_6', 'kT', r'$k_B T_{\\mathrm{ridge}}$', '(keV)', 4],\n",
    "             ['xrb', 'apec_6', 'norm', 'EM (scaled)', r'($10^{-14} \\;\\mathrm{cm^{-5}}$)', 5],\n",
    "            ]"
   ]
  },
  {
   "cell_type": "code",
   "execution_count": null,
   "metadata": {
    "collapsed": false,
    "scrolled": true
   },
   "outputs": [],
   "source": [
    "plt.semilogy(chain[:,1])"
   ]
  },
  {
   "cell_type": "code",
   "execution_count": null,
   "metadata": {
    "collapsed": false
   },
   "outputs": [],
   "source": [
    "corner.corner(chain[burnin:, 0:6],\n",
    "              labels=['kT-loc', 'EM-loc', 'nH-xgal', 'nH-ridge', 'kT-ridge', 'EM-ridge'],\n",
    "              quantiles=[0.05, 0.5, 0.95])\n",
    "plt.show()"
   ]
  },
  {
   "cell_type": "code",
   "execution_count": null,
   "metadata": {
    "collapsed": false
   },
   "outputs": [],
   "source": [
    "corner.corner(chain[burnin:, 18:25], labels=['nH', 'kT', 'Mg', 'Si', 'S', 'Tau', 'EM'], quantiles=[0.05, 0.5, 0.95])"
   ]
  },
  {
   "cell_type": "code",
   "execution_count": null,
   "metadata": {
    "collapsed": false,
    "scrolled": true
   },
   "outputs": [],
   "source": [
    "compare_par_errors(['20161015_src_bkg_grp01_pgstat_mosmerge.json',\n",
    "                     '20161015_src_bkg_grp01_pgstat_nomerge.json',\n",
    "                     '20161015_src_bkg_grp50_chi_mosmerge.json',\n",
    "                     '20161016_src_bkg_grp50_chi_nomerge.json'],\n",
    "                  ['01pg,M', '01pg', '50chi,M', '50chi'])"
   ]
  },
  {
   "cell_type": "code",
   "execution_count": null,
   "metadata": {
    "collapsed": false,
    "scrolled": true
   },
   "outputs": [],
   "source": [
    "compare_par_errors(['20161015_src_bkg_mg.json', '20161019_src_bkg_mg_mcmc.json'],\n",
    "                  ['reg', 'mcmc'])"
   ]
  },
  {
   "cell_type": "markdown",
   "metadata": {},
   "source": [
    "# 2. Source fit parameters, \"standard fit\" and varied abundances "
   ]
  },
  {
   "cell_type": "markdown",
   "metadata": {},
   "source": [
    "Alternative tack: transpose table"
   ]
  },
  {
   "cell_type": "code",
   "execution_count": null,
   "metadata": {
    "collapsed": false
   },
   "outputs": [],
   "source": [
    "def print_source_bkg_table():\n",
    "\n",
    "    fd_fnames = [\"20161015_src_bkg_grp01_pgstat_mosmerge.json\",\n",
    "            \"20161015_src_bkg_mg.json\",\n",
    "            \"20161015_src_bkg_mg-ar-ca_MANUAL.json\",\n",
    "            \"20161028_src_bkg_mg-si-s-fe_MANUAL.json\",  # tweaked to get sensible error bar on Fe\n",
    "            \"20161028_src_bkg_o-ne-mg-si-s_MANUAL.json\",  # Not done yet\n",
    "            \"20161026_src_bkg_o-ne-mg-si-s-ar-ca-fe_MANUAL.json\",  # NEED TO RERUN WITH ERRORS\n",
    "            \"20161031_src_bkg_o-ne-mg-si-s-fe_nH-0.867.json\",\n",
    "            \"20161028_src_bkg_mg-si-s_tau-5e13_MANUAL.json\"]\n",
    "\n",
    "    latex_hdr = [['', 'A', 'B', 'C', 'D', 'E', 'F', 'G', 'H']]\n",
    "    latex_cols = ['{:s}'] + [2] * len(fd_fnames)\n",
    "    ltab = LatexTable(latex_hdr, latex_cols, \"Integrated source\", prec=2)\n",
    "\n",
    "    for model, comp, par, par_label in [\n",
    "                      ('snr_src', 'tbnew_gas', 'nH', r'$\\nH$'),\n",
    "                      ('snr_src', 'vnei', 'kT', r'$\\kB T$'),\n",
    "                      ('snr_src', 'vnei', 'Tau', r'$\\tau$'),\n",
    "                      ('snr_src', 'vnei', 'norm', 'EM'),\n",
    "                      ('snr_src', 'vnei', 'O', 'O'),\n",
    "                      ('snr_src', 'vnei', 'Ne', 'Ne'),\n",
    "                      ('snr_src', 'vnei', 'Mg', 'Mg'),\n",
    "                      ('snr_src', 'vnei', 'Si', 'Si'),\n",
    "                      ('snr_src', 'vnei', 'S', 'S'),\n",
    "                      ('snr_src', 'vnei', 'Ar', 'Ar'),\n",
    "                      ('snr_src', 'vnei', 'Ca', 'Ca'),\n",
    "                      ('snr_src', 'vnei', 'Fe', 'Fe'),\n",
    "                      ('xrb', 'apec', 'kT', r'$\\kB T_{\\mt{local}}$'),\n",
    "                      ('xrb', 'apec', 'norm', r'$\\mt{EM}_{\\mt{local}}$'),\n",
    "                      ('xrb', 'tbnew_gas', 'nH', r'$N_{\\mathrm{H,xgal}}$'),\n",
    "                      ('xrb', 'tbnew_gas_5', 'nH', r'$N_{\\mathrm{H,ridge}}$'),\n",
    "                      ('xrb', 'apec_6', 'kT', r'$\\kB T_{\\mt{ridge}}$'),\n",
    "                      ('xrb', 'apec_6', 'norm', r'$\\mt{EM}_{\\mt{ridge}}$')]:\n",
    "\n",
    "        ltr = [par_label]\n",
    "\n",
    "        for fd_fname in fd_fnames:\n",
    "            fd = xs_utils.load_dict(fd_fname)\n",
    "            md = fd['1'][model]\n",
    "            if par == 'Tau':\n",
    "                ltr.extend(np.array(val_pnerrs(md, comp, par)) / 1e10)\n",
    "            elif par == 'norm':\n",
    "                ltr.extend(np.array(val_pnerrs(md, comp, par)) * 1e3)\n",
    "            else:\n",
    "                ltr.extend(val_pnerrs(md, comp, par))\n",
    "\n",
    "        ltab.add_row(*ltr)\n",
    "\n",
    "    # Custom rows don't work with format spec \"2\", must manually add at end\n",
    "    ltr_pgstat = [r'pgstat']\n",
    "    ltr_chisq = [r'$\\chi^2$']\n",
    "    ltr_chisqred = [r'$\\chi^2_{\\mt{red}}$']\n",
    "    ltr_dof = [r'dof']\n",
    "    for fd_fname in fd_fnames:\n",
    "        fd = xs_utils.load_dict(fd_fname)\n",
    "        assert fd['testStatMethod'] == 'chi'\n",
    "        assert fd['fitStatMethod'] == 'pgstat'\n",
    "        ltr_pgstat.append(\"{:.1f}\".format(fd['fitStat']))\n",
    "        ltr_chisq.append(\"{:.1f}\".format(fd['testStat']))\n",
    "        ltr_chisqred.append(\"{:.3f}\".format(fd['testStat'] / fd['dof']))\n",
    "        ltr_dof.append(\"{:d}\".format(fd['dof']))\n",
    "\n",
    "    for fd_fname in fd_fnames:\n",
    "        print \"% {:s}\".format(fd_fname)\n",
    "    \n",
    "    print ltab.__str__().replace('${1.00}^{-1.00}_{-1.00}$', r'    ')\n",
    "    print\n",
    "    print \"MANUALLY INSERT '[0.5 em]' to end of _data_ rows to help spacing\"\n",
    "    print\n",
    "    print \"Please manually insert rows:\"\n",
    "    print ' & '.join(ltr_pgstat), r'\\\\'\n",
    "    print ' & '.join(ltr_chisq), r'\\\\'\n",
    "    print ' & '.join(ltr_chisqred), r'\\\\'\n",
    "    print ' & '.join(ltr_dof), r'\\\\'"
   ]
  },
  {
   "cell_type": "code",
   "execution_count": null,
   "metadata": {
    "collapsed": false
   },
   "outputs": [],
   "source": [
    "print_source_bkg_table()"
   ]
  },
  {
   "cell_type": "markdown",
   "metadata": {},
   "source": [
    "## 2.1 Check flux on XRB parameters (\"standard\" fit)"
   ]
  },
  {
   "cell_type": "code",
   "execution_count": null,
   "metadata": {
    "collapsed": false
   },
   "outputs": [],
   "source": [
    "g309_fits.clear()\n",
    "g309_fits.prep_xs(with_xs=False)\n",
    "g309_models.load_data_and_models(['src','bkg'])"
   ]
  },
  {
   "cell_type": "code",
   "execution_count": null,
   "metadata": {
    "collapsed": true
   },
   "outputs": [],
   "source": [
    "xrb = xs.AllModels(1, 'xrb')"
   ]
  },
  {
   "cell_type": "code",
   "execution_count": null,
   "metadata": {
    "collapsed": true
   },
   "outputs": [],
   "source": [
    "def print_xrb_fluxes():\n",
    "    \"\"\"Extract useful flux quantities from XRB\"\"\"\n",
    "    \n",
    "    area = (np.pi * 400**2) * (1/3600)**2\n",
    "\n",
    "    xrb = xs.AllModels(1, 'xrb')\n",
    "    local_norm = xrb.apec.norm.values[0]\n",
    "    xgal_norm = xrb.powerlaw.norm.values[0]\n",
    "    ridge_norm = xrb.apec_6.norm.values[0]\n",
    "    \n",
    "    print \"Using XRB ridge norm:\", ridge_norm\n",
    "\n",
    "    xs.AllModels.calcFlux(\"2 10\")\n",
    "\n",
    "    xrb_total_flux = xs.AllData(1).flux[-6] / xs.AllModels(1,'xrb').constant.factor.values[0]\n",
    "    xrb_total_flux_phot = xs.AllData(1).flux[-3] / xs.AllModels(1,'xrb').constant.factor.values[0]\n",
    "    # Divide out constant to get right normalization for full pi*(400 arcsec)**2\n",
    "    # whereas normalization alone applies for actual geometric area of MOS1/MOS2\n",
    "    \n",
    "    print \"XRB total flux in 2-10 keV band:\"\n",
    "    print \"    {:.3g} photon/cm^2/s\".format(xs.AllData(1).flux[-3])\n",
    "    print \"    {:.3e} erg/cm^2/s; brightness (pi * 400 arcsec^2 FOV) {:.3e} erg/cm^2/s/deg^2\".format(\n",
    "            xs.AllData(1).flux[-6], xs.AllData(1).flux[-6] / area)\n",
    "\n",
    "    # Recalculate flux with power law only\n",
    "    xrb.apec.norm = 0\n",
    "    xrb.powerlaw.norm = xgal_norm\n",
    "    xrb.apec_6.norm = 0\n",
    "    xs.AllModels.calcFlux(\"2 10\")\n",
    "\n",
    "    xrb_powerlaw_flux = xs.AllData(1).flux[-6]\n",
    "    xrb_powerlaw_flux_phot = xs.AllData(1).flux[-3]\n",
    "    \n",
    "    print \"XRB xgal flux in 2-10 keV band:\"\n",
    "    print \"    {:.3g} photon/cm^2/s\".format(xs.AllData(1).flux[-3])\n",
    "    print \"    {:.3e} erg/cm^2/s; brightness (pi * 400 arcsec^2 FOV) {:.3e} erg/cm^2/s/deg^2\".format(\n",
    "            xs.AllData(1).flux[-6], xs.AllData(1).flux[-6] / area)\n",
    "\n",
    "    # Recalculate flux with ridge soft CIE plasma\n",
    "    xrb.apec.norm = 0\n",
    "    xrb.powerlaw.norm = 0\n",
    "    xrb.apec_6.norm = ridge_norm\n",
    "    xs.AllModels.calcFlux(\"2 10\")\n",
    "\n",
    "    xrb_ridge_flux = xs.AllData(1).flux[-6]\n",
    "    xrb_ridge_flux_phot = xs.AllData(1).flux[-3]\n",
    "    \n",
    "    print \"XRB ridge flux in 2-10 keV band:\"\n",
    "    print \"    {:.3g} photon/cm^2/s\".format(xs.AllData(1).flux[-3])\n",
    "    print \"    {:.3e} erg/cm^2/s; brightness (pi * 400 arcsec^2 FOV) {:.3e} erg/cm^2/s/deg^2\".format(\n",
    "            xs.AllData(1).flux[-6], xs.AllData(1).flux[-6] / area)\n",
    "    \n",
    "    # Check that we have been indexing into the correct XSPEC flux numbers\n",
    "    assert xrb_total_flux > xrb_powerlaw_flux\n",
    "    assert xrb_total_flux > xrb_ridge_flux\n",
    "    \n",
    "    # Restore norms\n",
    "    xrb.apec.norm = local_norm\n",
    "    xrb.powerlaw.norm = xgal_norm\n",
    "    xrb.apec_6.norm = ridge_norm"
   ]
  },
  {
   "cell_type": "code",
   "execution_count": null,
   "metadata": {
    "collapsed": false
   },
   "outputs": [],
   "source": [
    "print_xrb_fluxes()"
   ]
  },
  {
   "cell_type": "markdown",
   "metadata": {},
   "source": [
    "Now, normalizations / constant should represent the flux in a pi * (400 arcsec)^2 sky FOV,\n",
    "and for the X-ray background this should be independent of instrument.\n",
    "\n",
    "But, for some reason, PN numbers are coming up ~1-2% off.  Why is this?\n",
    "\n",
    "Cf. my notes on this issue from 2016 August 15"
   ]
  },
  {
   "cell_type": "code",
   "execution_count": null,
   "metadata": {
    "collapsed": false
   },
   "outputs": [],
   "source": [
    "print xs.AllData(1).flux[-6] / xs.AllModels(1,'xrb').constant.factor.values[0]\n",
    "print xs.AllData(2).flux[-6] / xs.AllModels(2,'xrb').constant.factor.values[0]\n",
    "print xs.AllData(3).flux[-6] / xs.AllModels(3,'xrb').constant.factor.values[0]\n",
    "\n",
    "print xs.AllData(4).flux[-6] / xs.AllModels(4,'xrb').constant.factor.values[0]\n",
    "print xs.AllData(5).flux[-6] / xs.AllModels(5,'xrb').constant.factor.values[0]\n",
    "print xs.AllData(6).flux[-6] / xs.AllModels(6,'xrb').constant.factor.values[0]"
   ]
  },
  {
   "cell_type": "markdown",
   "metadata": {},
   "source": [
    "## 2.3 Sub-region fits"
   ]
  },
  {
   "cell_type": "code",
   "execution_count": null,
   "metadata": {
    "collapsed": true
   },
   "outputs": [],
   "source": [
    "fd = xs_utils.load_dict(\"20161220_bar_si-s.json\")"
   ]
  },
  {
   "cell_type": "code",
   "execution_count": null,
   "metadata": {
    "collapsed": false,
    "scrolled": true
   },
   "outputs": [],
   "source": [
    "fd['1'].keys()"
   ]
  },
  {
   "cell_type": "code",
   "execution_count": null,
   "metadata": {
    "collapsed": true
   },
   "outputs": [],
   "source": [
    "def print_bar_lobe_ridge_fits():\n",
    "\n",
    "    fd_fnames = [\"20161220_bar_si-s.json\",\n",
    "                 \"20161220_lobe_si-s.json\",\n",
    "                 \"20161220_ridge_si-s.json\",\n",
    "                 \"20161220_ridge_solar.json\"]\n",
    "    regs = ['bar', 'lobe', 'ridge', 'ridge']\n",
    "\n",
    "    latex_hdr = [['', 'Bar', 'Lobe', 'Ridge', 'Ridge (solar)']]\n",
    "    latex_cols = ['{:s}'] + [2] * len(fd_fnames)\n",
    "    ltab = LatexTable(latex_hdr, latex_cols, \"Regions\", prec=2)\n",
    "\n",
    "    for model, comp, par, par_label in [\n",
    "                      ('snr_{}', 'tbnew_gas', 'nH', r'$\\nH$'),\n",
    "                      ('snr_{}', 'vnei', 'kT', r'$\\kB T$'),\n",
    "                      ('snr_{}', 'vnei', 'Tau', r'$\\tau$'),\n",
    "                      ('snr_{}', 'vnei', 'norm', 'EM'),\n",
    "                      ('snr_{}', 'vnei', 'Si', 'Si'),\n",
    "                      ('snr_{}', 'vnei', 'S', 'S')]:\n",
    "\n",
    "        ltr = [par_label]\n",
    "\n",
    "        for fd_fname, reg in zip(fd_fnames, regs):\n",
    "            \n",
    "            curr_model = model.format(reg)  # No effect if 'model' is not format string\n",
    "            \n",
    "            fd = xs_utils.load_dict(fd_fname)\n",
    "            md = fd['1'][curr_model]\n",
    "            if par == 'Tau':\n",
    "                ltr.extend(np.array(val_pnerrs(md, comp, par)) / 1e10)\n",
    "            elif par == 'norm':\n",
    "                ltr.extend(np.array(val_pnerrs(md, comp, par)) * 1e3)\n",
    "            else:\n",
    "                ltr.extend(val_pnerrs(md, comp, par))\n",
    "\n",
    "        ltab.add_row(*ltr)\n",
    "\n",
    "    # Custom rows don't work with format spec \"2\", must manually add at end\n",
    "    ltr_pgstat = [r'pgstat']\n",
    "    ltr_chisq = [r'$\\chi^2$']\n",
    "    ltr_chisqred = [r'$\\chi^2_{\\mt{red}}$']\n",
    "    ltr_dof = [r'dof']\n",
    "    for fd_fname in fd_fnames:\n",
    "        fd = xs_utils.load_dict(fd_fname)\n",
    "        assert fd['testStatMethod'] == 'chi'\n",
    "        assert fd['fitStatMethod'] == 'pgstat'\n",
    "        ltr_pgstat.append(\"{:.1f}\".format(fd['fitStat']))\n",
    "        ltr_chisq.append(\"{:.1f}\".format(fd['testStat']))\n",
    "        ltr_chisqred.append(\"{:.3f}\".format(fd['testStat'] / fd['dof']))\n",
    "        ltr_dof.append(\"{:d}\".format(fd['dof']))\n",
    "\n",
    "    for fd_fname in fd_fnames:\n",
    "        print \"% {:s}\".format(fd_fname)\n",
    "    \n",
    "    print ltab.__str__().replace('${1.00}^{-1.00}_{-1.00}$', r'    ')\n",
    "    print\n",
    "    print \"MANUALLY INSERT '[0.5 em]' to end of _data_ rows to help spacing\"\n",
    "    print\n",
    "    print \"Please manually insert rows:\"\n",
    "    print ' & '.join(ltr_pgstat), r'\\\\'\n",
    "    print ' & '.join(ltr_chisq), r'\\\\'\n",
    "    print ' & '.join(ltr_chisqred), r'\\\\'\n",
    "    print ' & '.join(ltr_dof), r'\\\\'"
   ]
  },
  {
   "cell_type": "code",
   "execution_count": null,
   "metadata": {
    "collapsed": false
   },
   "outputs": [],
   "source": [
    "print_bar_lobe_ridge_fits()"
   ]
  },
  {
   "cell_type": "markdown",
   "metadata": {},
   "source": [
    "# 3. Annulus fit parameters"
   ]
  },
  {
   "cell_type": "code",
   "execution_count": null,
   "metadata": {
    "collapsed": false,
    "scrolled": false
   },
   "outputs": [],
   "source": [
    "def print_annulus_table(f_dict, fourann=False):\n",
    "\n",
    "    fd = xs_utils.load_dict(f_dict)\n",
    "\n",
    "    rings = [fd['1']['snr_ann_000_100'],\n",
    "             fd['4']['snr_ann_100_200'],\n",
    "             fd['7']['snr_ann_200_300'],\n",
    "             fd['10']['snr_ann_300_400']]\n",
    "    ring_labels = [r'  $0$--$100\\arcsec$',\n",
    "                   r'$100$--$200\\arcsec$',\n",
    "                   r'$200$--$300\\arcsec$',\n",
    "                   r'$300$--$400\\arcsec$']\n",
    "    if not fourann:\n",
    "        rings.append(fd['13']['snr_ann_400_500'])\n",
    "        ring_labels.append(r'$400$--$500\\arcsec$')\n",
    "    else:\n",
    "        assert '13' not in fd\n",
    "\n",
    "    latex_hdr = [['Annulus', ''],\n",
    "                 [r'$\\kB T$', r'(keV)'],\n",
    "                 [r'$\\tau$', r'($\\times 10^{10})'],\n",
    "                 ['Mg', '(-)'],\n",
    "                 ['Si', '(-)'],\n",
    "                 ['S', '(-)'],\n",
    "                 ['EM', r'$(\\times 10^{11})$']]\n",
    "    latex_hdr = np.array(latex_hdr).T\n",
    "\n",
    "    latex_cols = ['{:s}', 2, 2, 2, 2, 2, 2]\n",
    "    ltab = LatexTable(latex_hdr, latex_cols, \"Annulus fit ({:s})\".format(f_dict), prec=2)\n",
    "\n",
    "    for ring, ring_label in zip(rings, ring_labels):\n",
    "        ltr = [ring_label]\n",
    "        ltr.extend(val_pnerrs(ring, 'vnei', 'kT'))\n",
    "        ltr.extend(np.array(val_pnerrs(ring, 'vnei', 'Tau')) / 1e10)\n",
    "        ltr.extend(val_pnerrs(ring, 'vnei', 'Mg'))\n",
    "        ltr.extend(val_pnerrs(ring, 'vnei', 'Si'))\n",
    "        ltr.extend(val_pnerrs(ring, 'vnei', 'S'))\n",
    "        ltr.extend(np.array(val_pnerrs(ring, 'vnei', 'norm')) * 1e3)\n",
    "\n",
    "        ltab.add_row(*ltr)\n",
    "\n",
    "    print \"% {:s}\".format(f_dict)\n",
    "    print ltab.__str__().replace('${1.00}^{-1.00}_{-1.00}$', r'    ')\n",
    "    \n",
    "    assert fd['fitStatMethod'] == 'pgstat'\n",
    "    assert fd['testStatMethod'] == 'chi'\n",
    "    \n",
    "    print\n",
    "    print \"Please manually add:\"\n",
    "    print r'  $\\nH = {{{:.2f}}}^{{{:+.2f}}}_{{{:+.2f}}} \\nHUnits$;'.format(*val_pnerrs(rings[0], 'tbnew_gas', 'nH'))\n",
    "    print r'  $\\mt{{pgstat}} = {:.1f}$; $\\chi^2_{{\\mt{{red}}}} = {:.3f} = {:.1f} / {:d}$ ($\\chi^2$/dof).'.format(\n",
    "            fd['fitStat'], fd['testStat'] / fd['dof'], fd['testStat'], fd['dof'])"
   ]
  },
  {
   "cell_type": "code",
   "execution_count": null,
   "metadata": {
    "collapsed": false
   },
   "outputs": [],
   "source": [
    "print_annulus_table(\"20161019_fourann.json\", fourann=True)"
   ]
  },
  {
   "cell_type": "code",
   "execution_count": null,
   "metadata": {
    "collapsed": false
   },
   "outputs": [],
   "source": [
    "print_annulus_table(\"20161019_fourann_mg.json\", fourann=True)"
   ]
  },
  {
   "cell_type": "code",
   "execution_count": null,
   "metadata": {
    "collapsed": false
   },
   "outputs": [],
   "source": [
    "print_annulus_table(\"20161019_fiveann.json\", fourann=False)"
   ]
  },
  {
   "cell_type": "code",
   "execution_count": null,
   "metadata": {
    "collapsed": false,
    "scrolled": true
   },
   "outputs": [],
   "source": [
    "print_annulus_table(\"20161019_fiveann_mg.json\", fourann=False)"
   ]
  },
  {
   "cell_type": "markdown",
   "metadata": {},
   "source": [
    "## 3.1 Soft proton parameters as a function of radius"
   ]
  },
  {
   "cell_type": "markdown",
   "metadata": {},
   "source": [
    "Behavior is broadly consistent with what we expect (flatter spectra at larger radii), which is reassuring.  Less obvious for 0551000201, which is OK because we are off-center from the remnant"
   ]
  },
  {
   "cell_type": "code",
   "execution_count": null,
   "metadata": {
    "collapsed": false
   },
   "outputs": [],
   "source": [
    "def print_annulus_sp_indices(fdict_fname):\n",
    "    \n",
    "    fd = xs_utils.load_dict(fdict_fname)\n",
    "    \n",
    "    latex_hdr = [['Annulus', '2001 MOS', '2001 PN', '2009 MOS']]\n",
    "    latex_cols = ['{:s}', 0, 0, 0]\n",
    "    ltab = LatexTable(latex_hdr, latex_cols, \"Soft proton power law indices\", prec=2)\n",
    "\n",
    "\n",
    "    labels = [r'  $0$--$100\\arcsec$',\n",
    "               r'$100$--$200\\arcsec$',\n",
    "               r'$200$--$300\\arcsec$',\n",
    "               r'$300$--$400\\arcsec$',\n",
    "               r'$400$--$500\\arcsec$']\n",
    "\n",
    "    for n, label in enumerate(labels):\n",
    "        ltr = [label]\n",
    "        ltr.append(fd[str(1 + n*3)]['sp']['powerlaw']['PhoIndex']['value'])\n",
    "        ltr.append(fd[str(2 + n*3)]['sp']['powerlaw']['PhoIndex']['value'])\n",
    "        ltr.append(fd[str(3 + n*3)]['sp']['powerlaw']['PhoIndex']['value'])\n",
    "        ltab.add_row(*ltr)\n",
    "\n",
    "    print ltab\n",
    "\n",
    "def plot_annulus_sp(fdict_fname):\n",
    "\n",
    "    fd = xs_utils.load_dict(fdict_fname)\n",
    "    \n",
    "    for offset, exposure in enumerate(['0087940201 MOS', '0087940201 PN', '0551000201 MOS']):\n",
    "        print exposure\n",
    "        plt.figure(figsize=(3.5,2))\n",
    "        for idx, lab in zip(np.array([1, 4, 7, 10, 13]) + offset,\n",
    "                            ['0-100', '100-200', '200-300', '300-400', '400-500']):\n",
    "            idx = str(idx)\n",
    "            phoindex = fd[idx]['sp']['powerlaw']['PhoIndex']['value']\n",
    "            norm = fd[idx]['sp']['powerlaw']['norm']['value']\n",
    "            print \"{:s}: index {:.2f}, norm {:.2e}\".format(lab, phoindex, norm)\n",
    "\n",
    "            x = np.logspace(-1, 1)  # 0.1 to 10\n",
    "\n",
    "\n",
    "            plt.loglog(x, norm * x**(-1 * phoindex), label=lab)\n",
    "\n",
    "        plt.legend(loc='best')\n",
    "        plt.xlabel(\"Energy (keV)\")\n",
    "        plt.ylabel(r'Effective photons s$^{-1}$ cm$^{-2}$ keV$^{-1}$')\n",
    "        plt.show()"
   ]
  },
  {
   "cell_type": "code",
   "execution_count": null,
   "metadata": {
    "collapsed": false,
    "scrolled": true
   },
   "outputs": [],
   "source": [
    "print_annulus_sp_indices(\"20161019_fiveann_mg.json\")\n",
    "print\n",
    "plot_annulus_sp(\"20161019_fiveann_mg.json\")"
   ]
  },
  {
   "cell_type": "code",
   "execution_count": null,
   "metadata": {
    "collapsed": false,
    "scrolled": true
   },
   "outputs": [],
   "source": [
    "print_annulus_sp_indices(\"20161019_fiveann.json\")\n",
    "print\n",
    "plot_annulus_sp(\"20161019_fiveann.json\")"
   ]
  },
  {
   "cell_type": "markdown",
   "metadata": {},
   "source": [
    "## 3.2 vnei fit parameters as a function of radius"
   ]
  },
  {
   "cell_type": "code",
   "execution_count": null,
   "metadata": {
    "collapsed": false,
    "scrolled": true
   },
   "outputs": [],
   "source": [
    "def plot_annulus_fit_parameters(component, parameter, fnames, labels,\n",
    "                                ylabel=None, out=None):\n",
    "    \n",
    "    x_offsets = np.linspace(-1, 1, num=len(fnames))\n",
    "    \n",
    "    plt.figure(figsize=(3.5,2))\n",
    "    \n",
    "    for fname, x_offset, label in zip(fnames, x_offsets, labels):\n",
    "\n",
    "        \n",
    "        fd = xs_utils.load_dict(fname)\n",
    "        vals = []\n",
    "        p_errs = []\n",
    "        n_errs = []\n",
    "        \n",
    "        for idx, model in zip(np.array([1, 4, 7, 10]),\n",
    "                          ['snr_ann_000_100', 'snr_ann_100_200', 'snr_ann_200_300', 'snr_ann_300_400']):\n",
    "            c = fd[str(idx)][model][component][parameter]\n",
    "            vals.append(c['value'])\n",
    "            \n",
    "            p_err = c['error'][1] - c['value']\n",
    "            n_err = c['value'] - c['error'][0]\n",
    "            \n",
    "            # Address case where abundance upper bound is not found\n",
    "            if c['error'][1] <= 0 and parameter in ['O', 'Ne', 'Mg', 'Si', 'S', 'Ar', 'Ca', 'Fe']:\n",
    "                p_err = 10 - c['value']\n",
    "\n",
    "            p_errs.append(p_err)\n",
    "            n_errs.append(n_err)\n",
    "            \n",
    "        plt.errorbar(map(lambda x: x + x_offset, [50, 150, 250, 350]),\n",
    "                     vals,\n",
    "                     yerr=[n_errs, p_errs], xerr=50, marker='o', ls='', label=label)\n",
    "\n",
    "\n",
    "    plt.xlim(-1, 401)\n",
    "    plt.ylim(ymin=0)\n",
    "    \n",
    "    plt.xlabel(\"Radius (arcsec.)\")\n",
    "    if ylabel:\n",
    "        plt.ylabel(ylabel)\n",
    "    else:\n",
    "        plt.ylabel(\"{:s} {:s}\".format(component, parameter))\n",
    "    \n",
    "    plt.legend(loc='best')\n",
    "    \n",
    "    if out:\n",
    "        plt.savefig(out)\n",
    "    plt.show()"
   ]
  },
  {
   "cell_type": "code",
   "execution_count": null,
   "metadata": {
    "collapsed": false,
    "scrolled": true
   },
   "outputs": [],
   "source": [
    "plot_annulus_fit_parameters('vnei', 'kT',\n",
    "                            [\"20161019_fiveann.json\", \"20161019_fiveann_mg.json\"],\n",
    "                            ['Si,S', 'Mg,Si,S'],\n",
    "                           ylabel=r'Temperature $kT$ (keV)',\n",
    "                           out='../fig_fiveann_kT.pdf')\n",
    "plot_annulus_fit_parameters('vnei', 'Tau',\n",
    "                            [\"20161019_fiveann.json\", \"20161019_fiveann_mg.json\"],\n",
    "                            ['Si,S', 'Mg,Si,S'],\n",
    "                           ylabel=r'Ionization timescale $\\tau \\;\\mathrm{s\\;cm^{-3}}$',\n",
    "                           out='../fig_fiveann_Tau.pdf')\n",
    "plot_annulus_fit_parameters('vnei', 'Si',\n",
    "                            [\"20161019_fiveann.json\", \"20161019_fiveann_mg.json\"],\n",
    "                            ['Si,S', 'Mg,Si,S'],\n",
    "                           ylabel='Si abundance, relative to solar',\n",
    "                           out='../fig_fiveann_Si.pdf')\n",
    "plot_annulus_fit_parameters('vnei', 'S',\n",
    "                            [\"20161019_fiveann.json\", \"20161019_fiveann_mg.json\"],\n",
    "                            ['Si,S', 'Mg,Si,S'],\n",
    "                           ylabel='S abundance, relative to solar',\n",
    "                           out='../fig_fiveann_S.pdf')\n",
    "plot_annulus_fit_parameters('vnei', 'Mg',\n",
    "                            [\"20161019_fiveann_mg.json\"],\n",
    "                            ['Mg,Si,S'],\n",
    "                           ylabel='Mg abundance, relative to solar',\n",
    "                           out='../fig_fiveann_Mg.pdf')"
   ]
  },
  {
   "cell_type": "markdown",
   "metadata": {},
   "source": [
    "## 3.3 Estimate masses from emission measures"
   ]
  },
  {
   "cell_type": "markdown",
   "metadata": {},
   "source": [
    "Construct some utility methods, set constants"
   ]
  },
  {
   "cell_type": "code",
   "execution_count": null,
   "metadata": {
    "collapsed": false
   },
   "outputs": [],
   "source": [
    "def volfrac(r1,r2):\n",
    "    \"\"\"Volume fraction of a sphere subtended by an annulus at scaled radii r1, r2.\n",
    "    Requires r1, r2 both in range [0,1] and r1 <= r2.\n",
    "    Will not give sensible answers otherwise.\n",
    "    \n",
    "    This is the result of integral\n",
    "    \\int_{0}^{2\\pi} d\\phi \\int_{r_1}^{r_2} r dr \\int_{-\\sqrt{R^2-r^2}}^{\\sqrt{R^2-r^2}} dz\n",
    "    \"\"\"\n",
    "    return (1 - r1**2)**(3/2) - (1 - r2**2)**(3/2)\n",
    "\n",
    "def pixel2sqarcsec(pixels):\n",
    "    \"\"\"Convert from XMM detector pixels to sq. arcsec\"\"\"\n",
    "    return pixels * 0.05**2\n",
    "\n",
    "def arcsec2rad(arcsec):\n",
    "    return arcsec / 3600. * np.pi/180\n",
    "\n",
    "def annulus_area(r1,r2):\n",
    "    \"\"\"Yeah\"\"\"\n",
    "    return np.pi * (r2**2 - r1**2)\n",
    "\n",
    "print \"  0-100\\\": {:.3f}\".format(volfrac(0, 0.25))\n",
    "print \"100-200\\\": {:.3f}\".format(volfrac(0.25, 0.50))\n",
    "print \"200-300\\\": {:.3f}\".format(volfrac(0.50, 0.75))\n",
    "print \"300-400\\\": {:.3f}\".format(volfrac(0.75, 1))"
   ]
  },
  {
   "cell_type": "code",
   "execution_count": null,
   "metadata": {
    "collapsed": true
   },
   "outputs": [],
   "source": [
    "THETA_G309 = 6 * (1/60) * np.pi/180  # 6 arcminutes -> radians\n",
    "M_SUN = 1.988e33  # grams (source: wolfram|alpha)\n",
    "M_H = 1.674e-24  # grams (source: wolfram|alpha)\n",
    "D_5KPC = 1.543e22  # 5 kiloparsecs in cm (source: Wolfram|alpha)\n",
    "\n",
    "def density_scale(norm, volume):\n",
    "    \"\"\"Solves for density from XSPEC apec norm (see http://atomdb.org/faq.php)\n",
    "\n",
    "    Assume a spherical, relatively compact source in the sky.\n",
    "    Let $\\eta_0$ be the corrected XSPEC norm (corrected for chip gaps etc)\n",
    "    that describes emission for a volume V.\n",
    "    Then:\n",
    "\n",
    "        n_h ~ \\sqrt{ \\frac{ 10^{14} \\eta_0 }{ 1.2 V / (4 \\pi^2 (5 \\unit{kpc})) } } f^{-1/2} d_{5}^{-1/2}\n",
    "\n",
    "    Arguments:\n",
    "        norm (cm^-5): XSPEC emission measure 10^{-14} * \\frac{1}{4\\pi D^2} \\int n_e n_H dV\n",
    "        volume (cm^3): volume of emitting source\n",
    "    Output:\n",
    "        density estimate, scaled to filling factor 1 and distance 5 kpc\n",
    "        I.e., n_h ~ OUTPUT * f^{-1/2} d_{5}^{-1/2}\n",
    "    \"\"\"\n",
    "\n",
    "    #return np.sqrt( 1e14 * norm / (0.4 * angular_radius**3 * D_5KPC * f_subtend) )\n",
    "    return np.sqrt( 1e14 * norm / (1.2 * volume / (4 * np.pi * D_5KPC**2)) )\n",
    "\n",
    "def nh2mass(n_h_scale, volume):\n",
    "    \"\"\"Solve for emitting mass (again, scaled to 5kpc and f=1)\n",
    "    using expression from Auchettl+ 2015\n",
    "    \n",
    "        M = 1.4 n_H m_H f V\n",
    "    \n",
    "    (factor 1.4x comes from assuming [He/H] = 0.1, see Table 2 of Wilms+ 2000.\n",
    "     1 + 4*0.1 = 1.4)\n",
    "    Arguments:\n",
    "        n_h_scale (cm^{-3}): density scaled to 5kpc, f=1 from density_scale(...)\n",
    "        volume (cm^3): source volume under consideration _assuming d=5kpc_\n",
    "    Output:\n",
    "        mass estimate, scaled to filling factor 1 and distance 5 kpc\n",
    "        I.e., M ~ OUTPUT * f^{1/2} d_{5}^{+5/2}\n",
    "    \"\"\"\n",
    "    return 1.4 * n_h_scale * M_H * volume"
   ]
  },
  {
   "cell_type": "markdown",
   "metadata": {},
   "source": [
    "Do calculations"
   ]
  },
  {
   "cell_type": "code",
   "execution_count": null,
   "metadata": {
    "collapsed": false,
    "scrolled": false
   },
   "outputs": [],
   "source": [
    "def print_annulus_masses(fname_fdict):\n",
    "    \"\"\"Print crudely derived masses\"\"\"\n",
    "    # Although we operate on 0087940201 MOS only, the results are good for all exposures\n",
    "    # because we rescale to correct annulus area, removing BACKSCAL dependence\n",
    "\n",
    "    # norm * constant * (annulus_area / backscal)\n",
    "    # ...translates to\n",
    "    # norm * [ corrected_annulus_area / fiducial_backscal ] * [ pi*(r2^2 - r1^2) / corrected_annulus_area ]\n",
    "    # = norm * pi*(r2^2 - r1^2) / (pi*(400arcsec)^2) * [(pi*(400arcsec)^2) / fiducial_backscal]\n",
    "    # = norm * pi*(r2^2 - r1^2) / fiducial_backscal\n",
    "\n",
    "    # norm represents the correct emission measure for a (fiducial_corrected_src_area) FOV\n",
    "    #   i.e., correct for FIDUCIAL_BACKSCAL\n",
    "    # norm * constant represents the correct emission measure for a (corrected_annulus_area) FOV\n",
    "    # then, simply scale up norm to an annulus of appropriate size\n",
    "\n",
    "    fd = xs_utils.load_dict(fname_fdict)\n",
    "    \n",
    "    for n, ann in enumerate([(0,100), (100,200), (200,300), (300,400)]):\n",
    "        reg = \"ann_{:03d}_{:03d}\".format(*ann)\n",
    "        md = fd[str(1 + n*3)]['snr_ann_{:03d}_{:03d}'.format(*ann)]  # Iterate over indices 1, 4, 7, 10, 13\n",
    "\n",
    "        extr = ExtractedSpectrum(\"0087940201\", \"mosmerge\", reg)\n",
    "        print reg\n",
    "        # Give a sense of how much of the annulus we were able to sample, for 0087940201 mosmerge ONLY\n",
    "        print '  backscal / annulus_area = {:.1f} / {:.1f} = {:.5f}'.format(\n",
    "                pixel2sqarcsec(extr.backscal()), annulus_area(*ann),\n",
    "                pixel2sqarcsec(extr.backscal()) / annulus_area(*ann))\n",
    "\n",
    "        norm = md['vnei']['norm']['value']\n",
    "        norm_corr = (norm * md['constant']['factor']['value']\n",
    "                     * annulus_area(*ann) / pixel2sqarcsec(extr.backscal()))\n",
    "        \n",
    "        volume = volfrac(ann[0]/400, ann[1]/400) * 4/3*np.pi*(arcsec2rad(400) * D_5KPC)**3\n",
    "        nH_scaled = density_scale(norm_corr, volume)\n",
    "        mass = nh2mass(nH_scaled, volume)\n",
    "        \n",
    "        print '  XSPEC norm:', norm\n",
    "        print '  norm * constant * (annulus_area / backscal):', norm_corr\n",
    "        print '    (cross check: norm * pi*(r2^2-r1^2)/fiducial_backscal = {})'.format(\n",
    "                norm * annulus_area(*ann) / pixel2sqarcsec(extr.FIDUCIAL_BACKSCAL))\n",
    "\n",
    "        print '  Subtended volume:', volume\n",
    "        print '  Density scale for f=1, D=5kpc:', nH_scaled\n",
    "        print '  Inferred mass scale for subtended volume (units: Msun):', mass / M_SUN\n",
    "        print"
   ]
  },
  {
   "cell_type": "code",
   "execution_count": null,
   "metadata": {
    "collapsed": false,
    "scrolled": true
   },
   "outputs": [],
   "source": [
    "print_annulus_masses(\"20161019_fiveann_mg.json\")"
   ]
  },
  {
   "cell_type": "code",
   "execution_count": null,
   "metadata": {
    "collapsed": false,
    "scrolled": true
   },
   "outputs": [],
   "source": [
    "def print_source_masses(fname_fdict):\n",
    "\n",
    "    fd = xs_utils.load_dict(fname_fdict)\n",
    "    extr = ExtractedSpectrum(\"0087940201\", \"mosmerge\", 'src')\n",
    "    print 'Integrated source'\n",
    "\n",
    "    norm = fd['1']['snr_src']['vnei']['norm']['value']\n",
    "    norm_bounds = fd['1']['snr_src']['vnei']['norm']['error'][0:2]\n",
    "\n",
    "    norm_corr = (norm * fd['1']['snr_src']['constant']['factor']['value']\n",
    "                 * annulus_area(0, 400) / pixel2sqarcsec(extr.backscal()))\n",
    "\n",
    "    volume = 4/3*np.pi*(arcsec2rad(400) * D_5KPC)**3\n",
    "\n",
    "    nH_scaled = density_scale(norm_corr, volume)\n",
    "    mass = nh2mass(nH_scaled, volume)\n",
    "\n",
    "    print '  XSPEC norm: {:.5f} (range: [{:5f}, {:5f}])'.format(norm, *norm_bounds)\n",
    "    print '  norm * constant * (annulus_area / backscal):', norm_corr\n",
    "    print '    (cross check: norm * pi*(r2^2-r1^2)/fiducial_backscal = {})'.format(\n",
    "            norm * annulus_area(0, 400) / pixel2sqarcsec(extr.FIDUCIAL_BACKSCAL))\n",
    "\n",
    "    print '  Subtended volume:', volume\n",
    "    print '  Density scale for f=1, D=5kpc:', nH_scaled\n",
    "    print '  Inferred mass scale (units: Msun):', mass / M_SUN\n",
    "\n",
    "    mg_abund = fd['1']['snr_src']['vnei']['Mg']['value']\n",
    "    si_abund = fd['1']['snr_src']['vnei']['Si']['value']\n",
    "    s_abund =  fd['1']['snr_src']['vnei']['S']['value']\n",
    "\n",
    "    # Abundances from Table 2 of Wilms+ (2000), using estimated ISM abundances\n",
    "    print\n",
    "    print '  Mg mass scale, ejecta (units: Msun): ', ((mg_abund - 1) / 1.4) * 10**(7.40 - 12) * 24 * mass / M_SUN\n",
    "    print '  Si mass scale, ejecta (units: Msun): ', ((si_abund - 1) / 1.4) * 10**(7.27 - 12) * 28 * mass / M_SUN\n",
    "    print '  S  mass scale, ejecta (units: Msun): ', ((s_abund - 1) / 1.4) * 10**(7.09 - 12) * 32 * mass / M_SUN"
   ]
  },
  {
   "cell_type": "code",
   "execution_count": null,
   "metadata": {
    "collapsed": false
   },
   "outputs": [],
   "source": [
    "print_source_masses('20161015_src_bkg_mg.json')"
   ]
  },
  {
   "cell_type": "markdown",
   "metadata": {},
   "source": [
    "## 4. Fe-K flux bounds allowed Fe mass"
   ]
  },
  {
   "cell_type": "code",
   "execution_count": null,
   "metadata": {
    "collapsed": false
   },
   "outputs": [],
   "source": [
    "with np.load(\"../fe-k_flux/grid_nH1e+22_fe1.npz\") as data:\n",
    "    Tau = data['Tau']\n",
    "    kT = data['kT']\n",
    "    #erg_fluxes = data['erg_fluxes']\n",
    "    phot_fluxes = data['phot_fluxes']"
   ]
  },
  {
   "cell_type": "code",
   "execution_count": null,
   "metadata": {
    "collapsed": false,
    "scrolled": false
   },
   "outputs": [],
   "source": [
    "plt.imshow(phot_fluxes.T, cmap='inferno_r', origin='lower', extent=(9, 13, -1, 1),\n",
    "           aspect='auto', interpolation='none')\n",
    "\n",
    "xtick_vals = [1e9, 1e10, 1e11, 1e12, 1e13]\n",
    "ytick_vals = [0.1, 0.2, 0.5, 1, 2, 5, 10]\n",
    "plt.xticks(np.log10(xtick_vals),\n",
    "           [r'$10^{9}$', r'$10^{10}$', r'$10^{11}$', r'$10^{12}$', r'$10^{13}$'])\n",
    "plt.yticks(np.log10(ytick_vals), ytick_vals)\n",
    "\n",
    "plt.xlabel(r'Ionization timescale ($\\mathrm{s\\;cm^{-3}}$)')\n",
    "plt.ylabel(r'$kT$ (keV)')\n",
    "plt.title(r'Fe-K (XMM-MOS, 6-7 keV) photon flux ($\\mathrm{photons\\; s^{-1}\\; cm^2}$)')\n",
    "\n",
    "#plt.inferno()\n",
    "plt.colorbar()\n",
    "plt.tight_layout()\n",
    "plt.show()"
   ]
  },
  {
   "cell_type": "markdown",
   "metadata": {},
   "source": [
    "Next, apply our upper bound on flux to estimate the maximal Fe mass that\n",
    "can be hiding at a given Tau & temperature."
   ]
  },
  {
   "cell_type": "code",
   "execution_count": null,
   "metadata": {
    "collapsed": false
   },
   "outputs": [],
   "source": [
    "BOUND = 5e-5  # crude upper bound on Fe-K photons/cm^2/sec\n",
    "\n",
    "norm_bound = BOUND / (phot_fluxes)\n",
    "norm_bound[norm_bound > 1e3] = np.nan  # Cut out part of plot\n",
    "# result = upper bound on (norm x fe)\n",
    "\n",
    "# assume Fe = 1.  then,\n",
    "plt.imshow(np.log10(norm_bound).T, cmap='viridis', origin='lower', extent=(9, 13, -1, 1),\n",
    "           aspect='auto', interpolation='none')\n",
    "# Same stuff\n",
    "xtick_vals = [1e9, 1e10, 1e11, 1e12, 1e13]\n",
    "ytick_vals = [0.1, 0.2, 0.5, 1, 2, 5, 10]\n",
    "plt.xticks(np.log10(xtick_vals),\n",
    "           [r'$10^{9}$', r'$10^{10}$', r'$10^{11}$', r'$10^{12}$', r'$10^{13}$'])\n",
    "plt.yticks(np.log10(ytick_vals), ytick_vals)\n",
    "plt.colorbar()\n",
    "\n",
    "plt.xlabel(r'Ionization timescale ($\\mathrm{s\\;cm^{-3}}$)')\n",
    "plt.ylabel(r'$kT$ (keV)')\n",
    "plt.title('Log10 of upper bound on norm x (Fe abund) product')\n",
    "\n",
    "plt.tight_layout()\n",
    "plt.show()"
   ]
  },
  {
   "cell_type": "code",
   "execution_count": null,
   "metadata": {
    "collapsed": false
   },
   "outputs": [],
   "source": [
    "# norm_bound ~= norm x Fe abundance.  From here out we assume Fe = 1 in absence of better bounds...\n",
    "# ALSO, remember Mass has a factor\n",
    "#  * f^{1/2} d_{5}^{+5/2}\n",
    "# attached.  STRONG dependence on distance!  Moderate dependence on assumed filling fraction\n",
    "# I assumed a ball of radius r = 400 arcsec.\n",
    "\n",
    "volume = 4/3*np.pi*(arcsec2rad(400) * D_5KPC)**3\n",
    "nH_scaled = density_scale(norm_bound, volume)\n",
    "total_mass = nh2mass(nH_scaled, volume)\n",
    "fe_mass = total_mass/1.4 * 10**(7.50 - 12) / M_SUN\n",
    "\n",
    "\n",
    "# assume Fe = 1.  then,\n",
    "plt.imshow(np.log10(fe_mass).T, origin='lower', extent=(9, 13, -1, 1),\n",
    "           aspect='auto', interpolation='none', cmap='viridis')\n",
    "# Same stuff\n",
    "xtick_vals = [1e9, 1e10, 1e11, 1e12, 1e13]\n",
    "ytick_vals = [0.1, 0.2, 0.5, 1, 2, 5, 10]\n",
    "plt.xticks(np.log10(xtick_vals),\n",
    "           [r'$10^{9}$', r'$10^{10}$', r'$10^{11}$', r'$10^{12}$', r'$10^{13}$'])\n",
    "plt.yticks(np.log10(ytick_vals), ytick_vals)\n",
    "plt.colorbar()\n",
    "\n",
    "plt.xlabel(r'Ionization timescale ($\\mathrm{s\\;cm^{-3}}$)')\n",
    "plt.ylabel(r'$kT$ (keV)')\n",
    "plt.title('Log10 of upper bound on Fe mass (with MANY assumptions)')\n",
    "\n",
    "plt.tight_layout()\n",
    "plt.show()"
   ]
  },
  {
   "cell_type": "code",
   "execution_count": null,
   "metadata": {
    "collapsed": false
   },
   "outputs": [],
   "source": [
    "idx_Tau = np.searchsorted(Tau, 2e10)\n",
    "idx_kT = np.searchsorted(kT, 1.5)\n",
    "\n",
    "print idx_Tau, Tau[idx_Tau]\n",
    "print idx_kT, kT[idx_kT]\n",
    "print fe_mass[idx_Tau, idx_kT]\n",
    "plt.loglog(kT, fe_mass[idx_Tau,:], '-ob')\n",
    "plt.xlabel('kT (keV)')\n",
    "plt.ylabel('Fe mass upper bound (units: Msun) w/filling f=1, d=5kpc, and fully degenerate Fe/norm')\n",
    "plt.axvline(1.5, c='k', ls=':')\n",
    "plt.show()"
   ]
  }
 ],
 "metadata": {
  "kernelspec": {
   "display_name": "Python 2",
   "language": "python",
   "name": "python2"
  },
  "language_info": {
   "codemirror_mode": {
    "name": "ipython",
    "version": 2
   },
   "file_extension": ".py",
   "mimetype": "text/x-python",
   "name": "python",
   "nbconvert_exporter": "python",
   "pygments_lexer": "ipython2",
   "version": "2.7.3"
  }
 },
 "nbformat": 4,
 "nbformat_minor": 0
}
