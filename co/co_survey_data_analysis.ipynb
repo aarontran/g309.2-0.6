{
 "cells": [
  {
   "cell_type": "markdown",
   "metadata": {},
   "source": [
    "Attempt to plot velocity-integrated maps of $^{12}\\mathrm{C}^{16}\\mathrm{O}$ J(1-0) emission\n",
    "\n",
    "* ThrUMMS - http://www.astro.ufl.edu/~peterb/research/thrumms/rbank/ (Barnes+ 2015)\n",
    "* NANTEN - Saito+ 2001 (http://adsabs.harvard.edu/abs/2001PASJ...53.1037S but, no data access?...)\n",
    "* Dame+ 2001, DHT36 (low resolution)\n",
    "* MOPRA CO survey - mopra.org (not public)"
   ]
  },
  {
   "cell_type": "markdown",
   "metadata": {},
   "source": [
    "Possible software packages of use:\n",
    "* yt http://yt-project.org/doc/cookbook/fits_radio_cubes.html\n",
    "* spectral-cube http://radio-astro-tools.github.io/"
   ]
  },
  {
   "cell_type": "code",
   "execution_count": null,
   "metadata": {},
   "outputs": [],
   "source": [
    "%pylab\n",
    "%matplotlib inline\n",
    "\n",
    "import aplpy\n",
    "from astropy.io import fits\n",
    "import astropy.units as u\n",
    "import numpy as np\n",
    "import os\n",
    "from spectral_cube import SpectralCube"
   ]
  },
  {
   "cell_type": "markdown",
   "metadata": {},
   "source": [
    "## First look integration of ThrUMMS cubes"
   ]
  },
  {
   "cell_type": "markdown",
   "metadata": {},
   "source": [
    "Based on Saito+ 2001 Fig. 1a, start by integrating -64 km/s to -34 km/s.\n",
    "Quick reference: https://casa.nrao.edu/docs/CasaRef/image.moments.html"
   ]
  },
  {
   "cell_type": "code",
   "execution_count": null,
   "metadata": {
    "collapsed": true,
    "scrolled": true
   },
   "outputs": [],
   "source": [
    "def view_and_dump_cubes(filename, low=-64, high=-34, look=True, write=False, **kwargs):\n",
    "    \"\"\"Load a cube, view moment0 map, then integrate over -64 to -34 km/s (Cen arm velocities)\"\"\"\n",
    "    cube = SpectralCube.read(filename)\n",
    "    print cube\n",
    "    #moment0 = cube.moment0()\n",
    "    #if look:\n",
    "    #    moment0.quicklook()\n",
    "\n",
    "    subcube = cube.spectral_slab(low * u.km / u.s, high * u.km / u.s)\n",
    "    submoment0 = subcube.moment0()\n",
    "    if look:\n",
    "        submoment0.quicklook()\n",
    "    \n",
    "    if write:\n",
    "        #moment0.write('data_intgr/moment0_' + os.path.basename(filename), **kwargs)\n",
    "        submoment0.write('data_intgr/submoment0_{:+03d}_to_{:+03d}_{:s}'.format(low, high, os.path.basename(filename)),\n",
    "                         **kwargs)"
   ]
  },
  {
   "cell_type": "markdown",
   "metadata": {},
   "source": [
    "ThrUMMS 12CO data from NAOJ website"
   ]
  },
  {
   "cell_type": "code",
   "execution_count": null,
   "metadata": {
    "scrolled": true
   },
   "outputs": [],
   "source": [
    "view_and_dump_cubes('data/Th_IV_309.75_12CO.fits', write=True, overwrite=True)"
   ]
  },
  {
   "cell_type": "markdown",
   "metadata": {},
   "source": [
    "ThrUMMS 12CO data from UFL website"
   ]
  },
  {
   "cell_type": "code",
   "execution_count": null,
   "metadata": {
    "scrolled": true
   },
   "outputs": [],
   "source": [
    "view_and_dump_cubes('data/dr3.s306.12co.fits', write=True, overwrite=True)"
   ]
  },
  {
   "cell_type": "markdown",
   "metadata": {},
   "source": [
    "CfA survey (DHT36 area) 12CO interpolated @ high latitude\n",
    "\n",
    "Latest stable pip install of spectral_cube (0.4.0) has a bug in header keyword handling,\n",
    "where it attempts to delete ''-keyed header entries but fails.\n",
    "This was patched 2017 Jan. 12 with commit 99a2e7c4ffe3d30276c87d8f9efc6f273a6defb5.\n",
    "Therefore I install the latest dev version of the code."
   ]
  },
  {
   "cell_type": "code",
   "execution_count": null,
   "metadata": {
    "scrolled": true
   },
   "outputs": [],
   "source": [
    "cube = SpectralCube.read('data/DHT36_Quad4_interp.fits')\n",
    "print cube\n",
    "subcube = cube.spectral_slab(-64 * u.m / u.s, -34 * u.m / u.s)  # Hack; parsed vLSR units are incorrect\n",
    "cube.moment0().quicklook()\n",
    "subcube.moment0().quicklook()\n",
    "\n",
    "cube.moment0().write('data_intgr/moment0_DHT36_Quad4_interp.fits', overwrite=True)\n",
    "subcube.moment0().write('data_intgr/submoment0_-64_to_-34_DHT36_Quad4_interp.fits', overwrite=True)"
   ]
  },
  {
   "cell_type": "markdown",
   "metadata": {},
   "source": [
    "## Integrate over hand-chosen velocity ranges..."
   ]
  },
  {
   "cell_type": "code",
   "execution_count": null,
   "metadata": {},
   "outputs": [],
   "source": [
    "view_and_dump_cubes('data/Th_IV_309.75_12CO.fits', low=-70, high=0, look=True, write=True, overwrite=True)\n",
    "view_and_dump_cubes('data/Th_IV_309.75_12CO.fits', low=-70, high=+70, look=True, write=True, overwrite=True)\n",
    "# And partition, too\n",
    "view_and_dump_cubes('data/Th_IV_309.75_12CO.fits', low=-70, high=-35, look=True, write=True, overwrite=True)\n",
    "view_and_dump_cubes('data/Th_IV_309.75_12CO.fits', low=-35, high=0, look=True, write=True, overwrite=True)\n",
    "view_and_dump_cubes('data/Th_IV_309.75_12CO.fits', low=0, high=+70, look=True, write=True, overwrite=True)"
   ]
  },
  {
   "cell_type": "markdown",
   "metadata": {},
   "source": [
    "## Generate velocity-binned slices"
   ]
  },
  {
   "cell_type": "code",
   "execution_count": null,
   "metadata": {
    "scrolled": true
   },
   "outputs": [],
   "source": [
    "for f, unit in zip(['DHT36_Quad4_interp.fits', 'Th_IV_309.75_12CO.fits'],\n",
    "                   [u.m/u.s, u.km/u.s]):  # really silly hack for DHT file\n",
    "\n",
    "    cube = SpectralCube.read('data/' + f)\n",
    "\n",
    "    bins = [(x, x+5) for x in range(-80, 80, 5)]\n",
    "    for a, b in bins:\n",
    "        subcube = cube.spectral_slab(a * unit, b * unit)\n",
    "        subcube.moment0().write('data_intgr/submoment0_{:+03d}_to_{:+03d}_{:s}'.format(a,b,f), overwrite=True)\n",
    "        print \"Wrote {:+03d} to {:+03d} slice of {}\".format(a,b,f)"
   ]
  },
  {
   "cell_type": "markdown",
   "metadata": {},
   "source": [
    "Colorbars and multi-panel plots in APLPy are a bit funky.  See:\n",
    "* https://github.com/aplpy/aplpy/issues/119\n",
    "* https://github.com/aplpy/aplpy/issues/174"
   ]
  },
  {
   "cell_type": "markdown",
   "metadata": {},
   "source": [
    "Main issues:\n",
    "1. aspect ratio preservation means weird sizing control via figsize, subplot_params.  hspace and wspace cannot always be respected.\n",
    "2. inline vs. file-writing backends place objects/labels differently"
   ]
  },
  {
   "cell_type": "code",
   "execution_count": null,
   "metadata": {},
   "outputs": [],
   "source": [
    "fig = plt.figure(figsize=(7, 1.75))\n",
    "\n",
    "most = fits.open('../most/G309.2-0.6.fits')\n",
    "cmap = 'afmhot_r'\n",
    "#cmap = 'cubehelix_r'\n",
    "\n",
    "#bins = [(x, x+5) for x in range(-50, -30, 5)]\n",
    "bins = [(-70,70), (-70,-35), (-35,0), (0,+70)]\n",
    "nrow = 1\n",
    "ncol = 4\n",
    "assert nrow*ncol == len(bins)\n",
    "\n",
    "for n, intv in enumerate(bins):\n",
    "    \n",
    "    print \"Subplot #{} ({:g} to {:g} km/s)\".format(n+1, *intv)\n",
    "    #f = aplpy.FITSFigure('data_intgr/submoment0_{:+03d}_to_{:+03d}_DHT36_Quad4_interp.fits'.format(*intv),\n",
    "    f = aplpy.FITSFigure('data_intgr/submoment0_{:+03d}_to_{:+03d}_Th_IV_309.75_12CO.fits'.format(*intv),\n",
    "                         figure=fig, subplot=(nrow, ncol, n+1))\n",
    "    f.recenter(309.2, -0.6, width=0.8, height=0.8)\n",
    "    #f.show_colorscale(vmin=0, vmax=50, stretch='linear',cmap=cmap)\n",
    "    f.show_colorscale(vmin=0, vmax=100000, stretch='linear',cmap=cmap)\n",
    "    \n",
    "    f.add_label(0.1, 0.85, '[{:g},{:g}] km/s'.format(*intv),\n",
    "                relative=True, horizontalalignment='left',\n",
    "                size=8, color='black')\n",
    "    f.show_contour(data=most, levels=np.logspace(-2, -0.5, 4),  # Sparse log contours, 0.01 to 0.1*sqrt(10)\n",
    "                   colors='cyan', linewidths=0.75)\n",
    "    #f.show_regions('../xmm/regs/lobe_ne.reg')\n",
    "    #f.show_regions('../xmm/regs/lobe_sw.reg')\n",
    "    f.tick_labels.hide()\n",
    "    f.axis_labels.hide()\n",
    "    \n",
    "    f.tick_labels.set_font(size=8)\n",
    "    f.axis_labels.set_font(size=8)\n",
    "\n",
    "    f.ticks.set_color('black')\n",
    "    f.ticks.set_yspacing(0.5)\n",
    "    f.ticks.set_minor_frequency(5)\n",
    "    f.ticks.set_xspacing(0.5)\n",
    "    f.ticks.set_minor_frequency(5)\n",
    "    \n",
    "    f.ticks._ax1.tick_params(axis='both', which='both', direction='in')\n",
    "    f.ticks._ax2.tick_params(axis='both', which='both', direction='in')\n",
    "    \n",
    "    if n % ncol == 0:  # Left row\n",
    "        f.tick_labels.set_yformat('dd.d')\n",
    "        f.tick_labels.show_y()\n",
    "        f.axis_labels.show_y()\n",
    "    \n",
    "    if n >= len(bins) - ncol:  # Bottom row\n",
    "        f.tick_labels.set_xformat('ddd.d')\n",
    "        f.tick_labels.show_x()\n",
    "        f.axis_labels.show_x()\n",
    "    \n",
    "    if n == len(bins)-1:  # Last plot\n",
    "        f.add_colorbar(pad=0, width=0)  # setting pad=0,width=0 prevents f from resizing\n",
    "        \n",
    "        # inline plot\n",
    "        #f.colorbar.set_box([0.96, 0.025, 0.03, 0.95])  # If plot is taller than desired for grid\n",
    "        #f.colorbar.set_box([0.96, 0, 0.03, 1])  # If plot is wider than desired for grid\n",
    "        \n",
    "        # savefig dump\n",
    "        f.colorbar.set_box([0.88, 0.075, 0.02, 0.85])  # savefig dump\n",
    "        \n",
    "        f.colorbar.set_axis_label_text('K m/s')  # TODO want to rescale images dimensions\n",
    "        f.colorbar._colorbar_axes.tick_params(axis='both', which='both', direction='in')\n",
    "        f.colorbar.set_axis_label_font(size=8)\n",
    "        f.colorbar.set_font(size=8)\n",
    "        #f.colorbar.set_axis_label_rotation(90)\n",
    "\n",
    "# inline plot\n",
    "#fig.subplots_adjust(left=0, bottom=0, right=0.94, top=1, wspace=0.05, hspace=0.05)\n",
    "#fig.subplots_adjust(left=0, bottom=0, right=0.94, top=1, wspace=0.05, hspace=0.05)\n",
    "\n",
    "# For savefig dump\n",
    "fig.subplots_adjust(left=0.075, bottom=0.225, right=0.88, top=0.925, wspace=0, hspace=0)\n",
    "\n",
    "fig.canvas.draw()\n",
    "fig.savefig('fig_co_snapshots.pdf')"
   ]
  },
  {
   "cell_type": "markdown",
   "metadata": {},
   "source": [
    "## Plot galactic longitude l vs. v_LSR"
   ]
  },
  {
   "cell_type": "code",
   "execution_count": null,
   "metadata": {
    "collapsed": true,
    "scrolled": true
   },
   "outputs": [],
   "source": [
    "#cube = SpectralCube.read('data/Th_IV_309.75_12CO.fits')\n",
    "cube = SpectralCube.read('data/DHT36_Quad4_interp.fits')"
   ]
  },
  {
   "cell_type": "code",
   "execution_count": null,
   "metadata": {},
   "outputs": [],
   "source": [
    "cube.moment(order=0, axis=1).quicklook()  # This one doesn't seem to work on the Thrumms data set, inexplicably"
   ]
  }
 ],
 "metadata": {
  "kernelspec": {
   "display_name": "Python 2",
   "language": "python",
   "name": "python2"
  },
  "language_info": {
   "codemirror_mode": {
    "name": "ipython",
    "version": 2
   },
   "file_extension": ".py",
   "mimetype": "text/x-python",
   "name": "python",
   "nbconvert_exporter": "python",
   "pygments_lexer": "ipython2",
   "version": "2.7.3"
  }
 },
 "nbformat": 4,
 "nbformat_minor": 1
}
