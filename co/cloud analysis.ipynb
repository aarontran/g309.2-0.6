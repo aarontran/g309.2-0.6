{
 "cells": [
  {
   "cell_type": "markdown",
   "metadata": {},
   "source": [
    "## Can CO structure classification resolve the distance ambiguity for CO clouds near G309?"
   ]
  },
  {
   "cell_type": "markdown",
   "metadata": {},
   "source": [
    "Look at cloud catalogs from two recent studies using slightly different techniques to de-construct Dame+ CfA/Columbia 12CO(J1-0) emission.\n",
    "\n",
    "* Rice et al. (2016ApJ...822...52R): https://doi.org/10.3847/0004-637X/822/1/52\n",
    "* Miville-Deschênes et al. (2017ApJ...834...57M): https://doi.org/10.3847/1538-4357/834/1/57\n",
    "\n",
    "For Rice et al., an associated (preliminary) talk: http://www.mpia.de/HHSF14/proceedings/talks/tom_rice.pdf\n",
    "\n",
    "From the CO survey decomposition into clouds of some geometric shape and average line emission, one can attempt kinematic distance resolution using an empirical size-linewidth relation (Larson's law).  For the cloud's averaged linewidth measurement and two possible sizes (near or far), favor the size that places the cloud's (linewidth,size) closer to the Larson relation.  A larger cloud will sample a larger line-of-sight velocity range, and may have larger turbulent / substructure broadening (but, what sets line-widths?  measurements/simulations probably offer insight).\n",
    "\n",
    "Compare to this more manual (albeit more usefully interpreted for this project's needs) decomposition:\n",
    "\n",
    "* García et al. (2014ApJS..212....2G): https://doi.org/10.1088/0067-0049/212/1/2"
   ]
  },
  {
   "cell_type": "code",
   "execution_count": null,
   "metadata": {
    "collapsed": true
   },
   "outputs": [],
   "source": [
    "import matplotlib.pyplot as plt\n",
    "import numpy as np\n",
    "%matplotlib inline\n",
    "\n",
    "import astropy as ap\n",
    "from astropy import units as u\n",
    "from astropy.table import Table\n",
    "from astropy.coordinates import SkyCoord\n",
    "\n",
    "from astropy.io import fits\n",
    "\n",
    "import aplpy\n",
    "from matplotlib.patches import Circle, Ellipse, Rectangle  # Scatter is inadequate for representing circles/ellipses"
   ]
  },
  {
   "cell_type": "markdown",
   "metadata": {},
   "source": [
    "## Miville-Deschênes+ (2017) cloud catalog"
   ]
  },
  {
   "cell_type": "markdown",
   "metadata": {},
   "source": [
    "The Miville-Deschênes table doesn't parse well.  Here is the API for table reading:\n",
    "http://docs.astropy.org/en/stable/api/astropy.table.Table.html#astropy.table.Table.read"
   ]
  },
  {
   "cell_type": "code",
   "execution_count": null,
   "metadata": {
    "collapsed": true,
    "scrolled": true
   },
   "outputs": [],
   "source": [
    "#cols = ['Cloud', 'Ncomp', 'Npix', 'A', 'l', 'e_l', 'b', 'e_b', 'theta', 'WCO',\n",
    "#        'NH2', 'Sigma', 'vcent', 'sigmav', 'Rmax', 'Rmin', 'Rang', 'Rgal',\n",
    "#        'INF', 'Dn', 'Df', 'zn', 'zf', 'Sn', 'Sf', 'Rn', 'Rf', 'Mn', 'Mf']\n",
    "#units=['', '', '', 'deg2', 'deg', 'deg', 'deg', 'deg', 'deg',\n",
    "#       '', 'cm-2', 'solMass/pc2', 'km/s', 'km/s', 'deg', 'deg', 'deg', 'deg',\n",
    "#       '', 'kpc', 'kpc', 'kpc', 'kpc', 'pc2', 'pc2', 'pc', 'pc', 'solMass', 'solMass']\n",
    "\n",
    "t = Table.read('data/apjaa4dfdt1_mrt_miville-deschenes.txt', format='ascii', data_start=45,\n",
    "              names=['Cloud', 'Ncomp', 'Npix', 'A', 'l', 'e_l', 'b', 'e_b', 'theta',\n",
    "                     'WCO', 'NH2', 'Sigma', 'vcent', 'sigmav', 'Rmax', 'Rmin', 'Rang', 'Rgal',\n",
    "                     'INF', 'Dn', 'Df', 'zn', 'zf', 'Sn', 'Sf', 'Rn', 'Rf', 'Mn', 'Mf'])"
   ]
  },
  {
   "cell_type": "code",
   "execution_count": null,
   "metadata": {},
   "outputs": [],
   "source": [
    "# Sanity check column parsing\n",
    "plt.subplot(1, 2, 1)\n",
    "plt.hist(t['l']); plt.xlabel('l (deg.)');\n",
    "plt.subplot(1, 2, 2)\n",
    "plt.hist(t['b']); plt.xlabel('b (deg.)');\n",
    "plt.tight_layout()"
   ]
  },
  {
   "cell_type": "code",
   "execution_count": null,
   "metadata": {
    "scrolled": true
   },
   "outputs": [],
   "source": [
    "mask = np.logical_and(abs(t['l'] % 360 - 309.2) - t['Rmax'] < 0.5,  # any part of cloud within 0.5 deg. of SNR\n",
    "                      abs(t['b'] - -0.6) - t['Rmax'] < 0.5)  # any part of cloud within within 0.5 deg. of SNR\n",
    "mask = np.logical_and(mask,\n",
    "                      t['vcent'] - t['sigmav'] < -30)  # cloud velocity spread overlaps cen arm velocities\n",
    "t[mask]"
   ]
  },
  {
   "cell_type": "code",
   "execution_count": null,
   "metadata": {
    "scrolled": false
   },
   "outputs": [],
   "source": [
    "fig = plt.figure(figsize=(14,10))\n",
    "\n",
    "#fitsfig = aplpy.FITSFigure('data_intgr/submoment0_Th_IV_309.75_12CO.fits', figure=fig)\n",
    "#fitsfig.show_colorscale(vmin=0, vmax=150000*0.55, stretch='linear',cmap='afmhot')\n",
    "\n",
    "fitsfig = aplpy.FITSFigure('data_intgr/moment0_DHT36_Quad4_interp.fits', figure=fig)\n",
    "fitsfig.show_colorscale(vmin=0, vmax=150, stretch='linear',cmap='afmhot')\n",
    "fitsfig.recenter(309.2, -0.5, width=3, height=2)\n",
    "\n",
    "# Is the -1* for angle correct?\n",
    "# Ellipses are too small by a factor 1/2.\n",
    "fitsfig.show_ellipses(t[mask]['l']%360, t[mask]['b'], t[mask]['Rmax'], t[mask]['Rmin'], angle=-1*t[mask]['theta'],\n",
    "                      alpha=0.4, facecolor='b', edgecolor='g')\n",
    "\n",
    "most = fits.open('../most/G309.2-0.6.fits')\n",
    "lev = np.logspace(-2, -0.5, 4)  # Sparse log contours, 0.01 to 0.1*sqrt(10)\n",
    "fitsfig.show_contour(data=most, levels=lev, colors='green', alpha=1)\n",
    "\n",
    "fitsfig.refresh()"
   ]
  },
  {
   "cell_type": "markdown",
   "metadata": {},
   "source": [
    "Perform a sanity check on the APLPy plotting wrappers - are angles and positions correct?"
   ]
  },
  {
   "cell_type": "code",
   "execution_count": null,
   "metadata": {
    "scrolled": true
   },
   "outputs": [],
   "source": [
    "fig = plt.figure(figsize=(7,7))\n",
    "ax = fig.gca()\n",
    "\n",
    "print \"# Region file format: DS9 version 4.1\"\n",
    "print \"global color=green dashlist=8 3 width=1 font=\\\"helvetica 10 normal roman\\\" select=1 highlite=1 dash=0 fixed=0 edit=1 move=1 delete=1 include=1 source=1\"\n",
    "print \"galactic\"\n",
    "\n",
    "for row in t[mask]:\n",
    "    \n",
    "    ellipse = Ellipse((row['l']%360, row['b']), row['Rmax'], row['Rmin'], row['theta'],\n",
    "                      alpha=0.8 * row['NH2']/max(t[mask]['NH2']),  # NH2 propto W_CO / Npx\n",
    "                      edgecolor='k')\n",
    "    ax.add_patch(ellipse)\n",
    "\n",
    "    c = SkyCoord(row['l']%360 * u.degree, row['b'] * u.degree, frame=ap.coordinates.Galactic)\n",
    "\n",
    "    if row['INF'] == 0:\n",
    "        d = row['Dn']\n",
    "        fmt = ''\n",
    "    else:\n",
    "        d = row['Df']\n",
    "        fmt = \"color=blue width=2\"\n",
    "    \n",
    "    # d in kpc, v in km/s\n",
    "    print \"ellipse({},{},{}\\\",{}\\\",{}) # {} text={{d={:.1f},v={:.1f}+/-{:.1f},npx={},WCO={:.1f}e3}}\".format(\n",
    "        c.galactic.l.to_string(sep=':', alwayssign=True, pad=True),\n",
    "        c.galactic.b.to_string(sep=':', alwayssign=True, pad=True),\n",
    "        row['Rmax'] * 3600 / 2,  # ARBITRARY DOWNSIZE FOR READABILITY...\n",
    "        row['Rmin'] * 3600 / 2,\n",
    "        -1*row['theta'],\n",
    "        fmt,  # Use formatting to distinguish near/far\n",
    "        d, row['vcent'], row['sigmav'], row['Npix'], row['WCO']/1e3)\n",
    "\n",
    "ax.add_patch(Rectangle((309.0, -1), 1.4, 2, fill=False, edgecolor='r'))  # 309.0 to 310.4; -1 to 1\n",
    "\n",
    "ax.set_ylim(-1.5, 1)\n",
    "ax.set_xlim(308,310.4)\n",
    "plt.xlabel('l (deg.)')\n",
    "plt.ylabel('b (deg.)')\n",
    "plt.gca().invert_xaxis()"
   ]
  },
  {
   "cell_type": "markdown",
   "metadata": {},
   "source": [
    "## Rice+ (2016) cloud catalog"
   ]
  },
  {
   "cell_type": "code",
   "execution_count": null,
   "metadata": {
    "collapsed": true
   },
   "outputs": [],
   "source": [
    "r = Table.read('data/apj523087t3_mrt_rice.txt', format='ascii')"
   ]
  },
  {
   "cell_type": "code",
   "execution_count": null,
   "metadata": {},
   "outputs": [],
   "source": [
    "plt.subplot(1, 2, 1)\n",
    "plt.hist((r['GLON'] + 180) % 360 - 180); plt.xlabel('l (deg.)');\n",
    "plt.subplot(1, 2, 2)\n",
    "plt.hist(r['GLAT']); plt.xlabel('b (deg.)');\n",
    "plt.tight_layout()"
   ]
  },
  {
   "cell_type": "code",
   "execution_count": null,
   "metadata": {
    "scrolled": true
   },
   "outputs": [],
   "source": [
    "mask = np.logical_and(abs(r['GLON'] - 309.2) - r['{sigma}r'] < 1,\n",
    "                      abs(r['GLAT'] - -0.6) - r['{sigma}r'] < 1)\n",
    "mask = np.logical_and(mask,\n",
    "                      r['vLSR'] < 0)\n",
    "r[mask]"
   ]
  },
  {
   "cell_type": "code",
   "execution_count": null,
   "metadata": {
    "scrolled": true
   },
   "outputs": [],
   "source": [
    "fig = plt.figure(figsize=(7,7))\n",
    "ax = fig.gca()\n",
    "\n",
    "print \"# Region file format: DS9 version 4.1\"\n",
    "print \"global color=green dashlist=8 3 width=1 font=\\\"helvetica 10 normal roman\\\" select=1 highlite=1 dash=0 fixed=0 edit=1 move=1 delete=1 include=1 source=1\"\n",
    "print \"galactic\"\n",
    "\n",
    "for row in r[mask]:\n",
    "    \n",
    "    circ = Circle((row['GLON'], row['GLAT']), row['{sigma}r'], facecolor='k', alpha=0.5, fill=True)\n",
    "    ax.add_patch(circ)\n",
    "    \n",
    "    c = SkyCoord(row['GLON'] * u.degree, row['GLAT'] * u.degree, frame=ap.coordinates.Galactic)\n",
    "    \n",
    "    print \"circle({},{},{}\\\") # text={{KDA={}, D={:.2f} kpc, {:.1f}+/-{:.1f} km/s}} color=magenta\".format(\n",
    "        c.galactic.l.to_string(sep=':', alwayssign=True, pad=True),\n",
    "        c.galactic.b.to_string(sep=':', alwayssign=True, pad=True),\n",
    "        row['{sigma}r'] * 3600,  # angular size\n",
    "        row['KDA'], row['Distance'], row['vLSR'], row['{sigma}v'])\n",
    "\n",
    "ax.set_ylim(-1.5, 1)\n",
    "ax.set_xlim(308,310.4)\n",
    "plt.xlabel('l (deg.)')\n",
    "plt.ylabel('b (deg.)')\n",
    "plt.gca().invert_xaxis()"
   ]
  },
  {
   "cell_type": "code",
   "execution_count": null,
   "metadata": {},
   "outputs": [],
   "source": [
    "fig = plt.figure(figsize=(14,10))\n",
    "\n",
    "#fitsfig = aplpy.FITSFigure('data_intgr/submoment0_Th_IV_309.75_12CO.fits', figure=fig)\n",
    "#fitsfig.show_colorscale(vmin=0, vmax=150000*0.55, stretch='linear',cmap='afmhot')\n",
    "\n",
    "fitsfig = aplpy.FITSFigure('data_intgr/moment0_DHT36_Quad4_interp.fits', figure=fig)\n",
    "fitsfig.show_colorscale(vmin=0, vmax=150, stretch='linear',cmap='afmhot')\n",
    "fitsfig.recenter(309.2, -0.5, width=3, height=2)\n",
    "\n",
    "for row in r[mask]:\n",
    "    fitsfig.show_circles(row['GLON'], row['GLAT'], row['{sigma}r'], facecolor='b', alpha=0.5)\n",
    "\n",
    "most = fits.open('../most/G309.2-0.6.fits')\n",
    "lev = np.logspace(-2, -0.5, 4)  # Sparse log contours, 0.01 to 0.1*sqrt(10)\n",
    "fitsfig.show_contour(data=most, levels=lev, colors='green', alpha=1)\n",
    "\n",
    "fitsfig.refresh()"
   ]
  }
 ],
 "metadata": {
  "kernelspec": {
   "display_name": "Python 2",
   "language": "python",
   "name": "python2"
  },
  "language_info": {
   "codemirror_mode": {
    "name": "ipython",
    "version": 2
   },
   "file_extension": ".py",
   "mimetype": "text/x-python",
   "name": "python",
   "nbconvert_exporter": "python",
   "pygments_lexer": "ipython2",
   "version": "2.7.3"
  }
 },
 "nbformat": 4,
 "nbformat_minor": 1
}
