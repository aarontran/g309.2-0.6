{
 "cells": [
  {
   "cell_type": "markdown",
   "metadata": {},
   "source": [
    "# Radio spectral index for G309.2-0.6"
   ]
  },
  {
   "cell_type": "code",
   "execution_count": null,
   "metadata": {
    "collapsed": true
   },
   "outputs": [],
   "source": [
    "from __future__ import division\n",
    "import matplotlib.pyplot as plt\n",
    "import numpy as np\n",
    "from scipy.optimize import curve_fit\n",
    "%matplotlib inline"
   ]
  },
  {
   "cell_type": "code",
   "execution_count": null,
   "metadata": {
    "collapsed": false
   },
   "outputs": [],
   "source": [
    "dat = np.loadtxt('radio_fluxes.txt', usecols=(0,1,2))\n",
    "freq = dat[:,0]\n",
    "flux_density = dat[:,1]\n",
    "err = dat[:,2]\n",
    "print dat"
   ]
  },
  {
   "cell_type": "code",
   "execution_count": null,
   "metadata": {
    "collapsed": false
   },
   "outputs": [],
   "source": [
    "def power_law(x, alpha, c):\n",
    "    \"\"\"\n",
    "    Apply a power law\n",
    "    Arguments\n",
    "        x: \"x-axis\" data\n",
    "        alpha: spectral index (~ x^-alpha)\n",
    "        c: constant prefactor\n",
    "    \"\"\"\n",
    "    return c * x**(-alpha)\n",
    "\n",
    "popt_all, pcov_all = curve_fit(power_law, freq, flux_density, sigma=err)\n",
    "print \"All fit: alpha, c =\", popt_all\n",
    "print \"  est. stdev errors\", np.sqrt(np.diag(pcov_all))\n",
    "\n",
    "popt_cut, pcov_cut = curve_fit(power_law, freq[:-1], flux_density[:-1], sigma=err[:-1])\n",
    "print \"Cut fit: alpha, c =\", popt_cut\n",
    "print \"  est. stdev errors\", np.sqrt(np.diag(pcov_cut))"
   ]
  },
  {
   "cell_type": "code",
   "execution_count": null,
   "metadata": {
    "collapsed": true
   },
   "outputs": [],
   "source": [
    "plt.errorbar?"
   ]
  },
  {
   "cell_type": "code",
   "execution_count": null,
   "metadata": {
    "collapsed": false
   },
   "outputs": [],
   "source": [
    "plt.errorbar(dat[:-1,0], dat[:-1,1], yerr=dat[:-1,2], fmt='ok')  # OK for sure data\n",
    "plt.errorbar(dat[-1,0], dat[-1,1], yerr=dat[-1,2], fmt='ob')  # Parkes single dish 5000 MHz pt.\n",
    "plt.errorbar(2.65, 4, yerr=0.8, fmt='og')  # Parkes single dish 2700 MHz pt.\n",
    "\n",
    "plt.xscale('log')\n",
    "plt.yscale('log')\n",
    "\n",
    "x = np.linspace(0.2, 10, 1000)\n",
    "plt.plot(x, power_law(x, *popt_all), '-b', label=r'All data fit ()', zorder=-1)\n",
    "plt.plot(x, power_law(x, *popt_cut), '-r', zorder=-1)\n",
    "\n",
    "\n",
    "\n",
    "plt.xlim(0.2, 10)\n",
    "plt.ylim(2, 20)\n",
    "\n",
    "tick_freqs = [0.2, 0.5, 1, 2, 5, 10]\n",
    "tick_jy = [2,5,10,20]\n",
    "plt.xticks(tick_freqs, map(str, tick_freqs))\n",
    "plt.yticks(tick_jy, map(str, tick_jy))\n",
    "\n",
    "plt.xlabel('Frequency (GHz)')\n",
    "plt.ylabel('Flux density (Jy)')"
   ]
  }
 ],
 "metadata": {
  "kernelspec": {
   "display_name": "Python 2",
   "language": "python",
   "name": "python2"
  },
  "language_info": {
   "codemirror_mode": {
    "name": "ipython",
    "version": 2
   },
   "file_extension": ".py",
   "mimetype": "text/x-python",
   "name": "python",
   "nbconvert_exporter": "python",
   "pygments_lexer": "ipython2",
   "version": "2.7.3"
  }
 },
 "nbformat": 4,
 "nbformat_minor": 0
}
